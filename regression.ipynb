{
 "cells": [
  {
   "cell_type": "markdown",
   "id": "8ea0f272",
   "metadata": {},
   "source": [
    "# 02452 Group 34 Project 2\n",
    "## Regression Part"
   ]
  }
 ],
 "metadata": {
  "language_info": {
   "name": "python"
  }
 },
 "nbformat": 4,
 "nbformat_minor": 5
}
